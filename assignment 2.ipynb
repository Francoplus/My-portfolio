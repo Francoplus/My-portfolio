{
 "cells": [
  {
   "cell_type": "markdown",
   "id": "94bf07e7",
   "metadata": {},
   "source": [
    "# solution for ploblem statement 1"
   ]
  },
  {
   "cell_type": "code",
   "execution_count": 1,
   "id": "2d39ce00",
   "metadata": {},
   "outputs": [
    {
     "name": "stdout",
     "output_type": "stream",
     "text": [
      "Average Energy of first 10 songs: 65.1\n",
      "Average Length of first 10 songs: 195.6\n",
      "Total Length of Songs by Genre (Top to Bottom):\n",
      " Genre\n",
      "dance pop           1621\n",
      "pop                 1368\n",
      "latin               1126\n",
      "edm                  656\n",
      "reggaeton flow       611\n",
      "canadian hip hop     579\n",
      "panamanian pop       514\n",
      "reggaeton            427\n",
      "brostep              396\n",
      "electropop           389\n",
      "canadian pop         382\n",
      "dfw rap              333\n",
      "country rap          272\n",
      "australian pop       210\n",
      "atl hip hop          200\n",
      "boy band             181\n",
      "escape room          173\n",
      "big room             164\n",
      "r&b en espanol       162\n",
      "pop house            153\n",
      "trap music           131\n",
      "Name: Length., dtype: int64\n",
      "Artist with the Most Tracks in One Genre:\n",
      "  Artist.Name Genre  TrackCount\n",
      "9  Ed Sheeran   pop           4\n",
      "Data of Tracks by Ed Sheeran in Genre pop:\n",
      "                                        Track.Name Artist.Name Genre  \\\n",
      "3                 Beautiful People (feat. Khalid)  Ed Sheeran   pop   \n",
      "5               I Don't Care (with Justin Bieber)  Ed Sheeran   pop   \n",
      "37                 Antisocial (with Travis Scott)  Ed Sheeran   pop   \n",
      "49  Cross Me (feat. Chance the Rapper & PnB Rock)  Ed Sheeran   pop   \n",
      "\n",
      "    Beats.Per.Minute  Energy  Danceability  Loudness..dB..  Liveness  \\\n",
      "3                 93      65            64              -8         8   \n",
      "5                102      68            80              -5         9   \n",
      "37               152      82            72              -5        36   \n",
      "49                95      79            75              -6         7   \n",
      "\n",
      "    Valence.  Length.  Acousticness..  Speechiness.  Popularity  \n",
      "3         55      198              12            19          86  \n",
      "5         84      220               9             4          84  \n",
      "37        91      162              13             5          87  \n",
      "49        61      206              21            12          82  \n"
     ]
    }
   ],
   "source": [
    "import pandas as pd\n",
    "\n",
    "# Task 1: Import the dataset as a DataFrame and drop the first column.\n",
    "df = pd.read_csv('top50spotify.csv')\n",
    "df = df.drop(columns=['SerialNo.'])\n",
    "\n",
    "# Task 2: Save it as 'top50.csv'.\n",
    "df.to_csv('top50.csv', index=False)\n",
    "\n",
    "# Task 3: Find the average Energy and Length of the first 10 songs.\n",
    "average_energy = df['Energy'][:10].mean()\n",
    "average_length = df['Length.'][:10].mean()\n",
    "print(f'Average Energy of first 10 songs: {average_energy}')\n",
    "print(f'Average Length of first 10 songs: {average_length}')\n",
    "\n",
    "# Task 4: Find the total length of songs, grouped by genre from top to bottom.\n",
    "total_length_by_genre = df.groupby('Genre')['Length.'].sum().sort_values(ascending=False)\n",
    "print('Total Length of Songs by Genre (Top to Bottom):\\n', total_length_by_genre)\n",
    "\n",
    "# Task 5: Print the artist name with the most number of tracks in one genre.\n",
    "most_tracks_by_artist = df.groupby(['Artist.Name', 'Genre']).size().reset_index(name='TrackCount')\n",
    "max_track_count = most_tracks_by_artist['TrackCount'].max()\n",
    "most_tracks_artist_genre = most_tracks_by_artist[most_tracks_by_artist['TrackCount'] == max_track_count]\n",
    "print('Artist with the Most Tracks in One Genre:')\n",
    "print(most_tracks_artist_genre)\n",
    "\n",
    "# Task 6: Print the data of the tracks created by the artist from the previous question.\n",
    "artist_name = most_tracks_artist_genre.iloc[0]['Artist.Name']\n",
    "genre = most_tracks_artist_genre.iloc[0]['Genre']\n",
    "tracks_by_artist_in_genre = df[(df['Artist.Name'] == artist_name) & (df['Genre'] == genre)]\n",
    "print(f'Data of Tracks by {artist_name} in Genre {genre}:\\n', tracks_by_artist_in_genre)\n"
   ]
  },
  {
   "cell_type": "markdown",
   "id": "ae15428f",
   "metadata": {},
   "source": [
    "# solution for ploblem statement 2"
   ]
  },
  {
   "cell_type": "code",
   "execution_count": 2,
   "id": "3a2294ac",
   "metadata": {},
   "outputs": [
    {
     "name": "stdout",
     "output_type": "stream",
     "text": [
      "              Sam  Jackson  Ahree  Gloria  Isla  Aron  Gray    Average\n",
      "English      60.0     74.0   85.0     0.0   0.0   0.0   0.0  31.285714\n",
      "History      65.0      0.0    0.0    83.0  78.0  72.0  61.0  51.285714\n",
      "Geography     0.0     92.0   76.0    95.0  82.0  75.0   0.0  60.000000\n",
      "Mathematics  99.0     89.0   85.0    74.0   0.0   0.0  95.0  63.142857\n",
      "Science      89.0      0.0   87.0     0.0  93.0  82.0  78.0  61.285714\n"
     ]
    }
   ],
   "source": [
    "# Task 1: Create a Pandas Series from the given dictionary.\n",
    "data = {'English': {'Sam': 60, 'Jackson': 74, 'Ahree': 85},\n",
    "        'History': {'Gloria': 83, 'Sam': 65, 'Isla': 78, 'Aron': 72, 'Gray': 61},\n",
    "        'Geography': {'Jackson': 92, 'Gloria': 95, 'Isla': 82, 'Aron': 75, 'Ahree': 76},\n",
    "        'Mathematics': {'Sam': 99, 'Gloria': 74, 'Jackson': 89, 'Ahree': 85, 'Gray': 95},\n",
    "        'Science': {'Sam': 89, 'Aron': 82, 'Gray': 78, 'Isla': 93, 'Ahree': 87}}\n",
    "\n",
    "# Create a DataFrame from the dictionary and replace null values with zeroes.\n",
    "subject_df = pd.DataFrame(data).fillna(0)\n",
    "\n",
    "# Task 3: Transpose the DataFrame and calculate the average for each student.\n",
    "subject_df = subject_df.T\n",
    "subject_df['Average'] = subject_df.mean(axis=1)\n",
    "\n",
    "print(subject_df)"
   ]
  },
  {
   "cell_type": "markdown",
   "id": "860813b7",
   "metadata": {},
   "source": [
    "# solution for ploblem statement 3"
   ]
  },
  {
   "cell_type": "code",
   "execution_count": 3,
   "id": "e2bcc46c",
   "metadata": {},
   "outputs": [
    {
     "name": "stdout",
     "output_type": "stream",
     "text": [
      "118    119\n",
      "237    238\n",
      "356    357\n",
      "475    476\n",
      "594    595\n",
      "713    714\n",
      "832    833\n",
      "951    952\n",
      "dtype: int64\n"
     ]
    }
   ],
   "source": [
    "# Create a Pandas Series from 1 to 1000\n",
    "numbers_series = pd.Series(range(1, 1001))\n",
    "\n",
    "# Select numbers divisible by 7 and 17\n",
    "divisible_by_7_and_17 = numbers_series[(numbers_series % 7 == 0) & (numbers_series % 17 == 0)]\n",
    "\n",
    "print(divisible_by_7_and_17)"
   ]
  },
  {
   "cell_type": "markdown",
   "id": "0367e6b4",
   "metadata": {},
   "source": [
    "# solution for ploblem statement 4"
   ]
  },
  {
   "cell_type": "code",
   "execution_count": 4,
   "id": "6b22418a",
   "metadata": {},
   "outputs": [
    {
     "data": {
      "image/png": "[encoded data removed]",
      "text/plain": [
       "<Figure size 1000x600 with 1 Axes>"
      ]
     },
     "metadata": {},
     "output_type": "display_data"
    }
   ],
   "source": [
    "# Load the dataset\n",
    "data = pd.read_csv(\"cereal.csv\")\n",
    "\n",
    "import matplotlib.pyplot as plt\n",
    "import seaborn as sns\n",
    "\n",
    "# Create a bar plot of ratings by manufacturer\n",
    "plt.figure(figsize=(10, 6))\n",
    "sns.barplot(data=data, x=\"mfr\", y=\"rating\")\n",
    "\n",
    "# Set the y-axis label\n",
    "plt.ylabel(\"Rating\")\n",
    "\n",
    "# Set the title of the plot\n",
    "plt.title(\"Cereal Ratings by Manufacturer\")\n",
    "\n",
    "# Set the x-axis range from 0 to 100\n",
    "plt.ylim(0, 100)\n",
    "\n",
    "# Show the plot\n",
    "plt.show()"
   ]
  },
  {
   "cell_type": "code",
   "execution_count": null,
   "id": "726c8dcb",
   "metadata": {},
   "outputs": [],
   "source": []
  }
 ],
 "metadata": {
  "kernelspec": {
   "display_name": "Python 3 (ipykernel)",
   "language": "python",
   "name": "python3"
  },
  "language_info": {
   "codemirror_mode": {
    "name": "ipython",
    "version": 3
   },
   "file_extension": ".py",
   "mimetype": "text/x-python",
   "name": "python",
   "nbconvert_exporter": "python",
   "pygments_lexer": "ipython3",
   "version": "3.10.10"
  }
 },
 "nbformat": 4,
 "nbformat_minor": 5
}
