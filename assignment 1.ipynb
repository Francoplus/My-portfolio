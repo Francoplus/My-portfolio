{
 "cells": [
  {
   "cell_type": "code",
   "execution_count": null,
   "id": "c7cbbb14",
   "metadata": {},
   "outputs": [],
   "source": [
    "# solution of problem statement 1"
   ]
  },
  {
   "cell_type": "code",
   "execution_count": 1,
   "id": "a2ab525c",
   "metadata": {},
   "outputs": [
    {
     "name": "stdout",
     "output_type": "stream",
     "text": [
      "Matrix M:\n",
      "[[0.70912022 0.0977243 ]\n",
      " [0.82284962 0.43796171]\n",
      " [0.22243178 0.62091695]]\n",
      "\n",
      "Matrix NA:\n",
      "[[0.2449688  0.9066801  0.9305449  0.60760599]\n",
      " [0.73669342 0.15561103 0.68281017 0.41524456]]\n",
      "\n",
      "Matrix Product (M x NA):\n",
      "[[0.24570518 0.65815216 0.72659534 0.47144517]\n",
      " [0.52421599 0.81421304 1.06474322 0.68182958]\n",
      " [0.51191428 0.298296   0.63095117 0.39298327]]\n"
     ]
    }
   ],
   "source": [
    "import numpy as np\n",
    "\n",
    "# Define the dimensions of the matrices\n",
    "M, N, A = 3, 2, 4\n",
    "\n",
    "# Create random matrices with the specified dimensions\n",
    "matrix_M = np.random.rand(M, N)\n",
    "matrix_NA = np.random.rand(N, A)\n",
    "\n",
    "# Perform matrix multiplication\n",
    "result_matrix = np.dot(matrix_M, matrix_NA)  # or matrix_M @ matrix_NA\n",
    "\n",
    "# Print the result\n",
    "print(\"Matrix M:\")\n",
    "print(matrix_M)\n",
    "print(\"\\nMatrix NA:\")\n",
    "print(matrix_NA)\n",
    "print(\"\\nMatrix Product (M x NA):\")\n",
    "print(result_matrix)"
   ]
  },
  {
   "cell_type": "code",
   "execution_count": null,
   "id": "e9069505",
   "metadata": {},
   "outputs": [],
   "source": [
    "# solution of problem statement 2"
   ]
  },
  {
   "cell_type": "code",
   "execution_count": 2,
   "id": "8671623c",
   "metadata": {},
   "outputs": [
    {
     "name": "stdout",
     "output_type": "stream",
     "text": [
      "Original Array:\n",
      "['Python' 'PHP' 'JS' 'Examples' 'html5' '5']\n",
      "\n",
      "Is each element composed of digits, lowercase, and uppercase letters only?\n",
      "[ True  True  True  True  True  True]\n"
     ]
    }
   ],
   "source": [
    "import numpy as np\n",
    "\n",
    "# Define a function to check if a string is composed of digits, lowercase, and uppercase letters\n",
    "def is_valid(s):\n",
    "    return all(c.isdigit() or c.islower() or c.isupper() for c in s)\n",
    "\n",
    "# Create an original array\n",
    "original_array = np.array(['Python', 'PHP', 'JS', 'Examples', 'html5', '5'])\n",
    "\n",
    "# Use np.vectorize to apply the is_valid function to each element in the array\n",
    "is_valid_element = np.vectorize(is_valid)(original_array)\n",
    "\n",
    "# Print the original array and the corresponding boolean result\n",
    "print(\"Original Array:\")\n",
    "print(original_array)\n",
    "print(\"\\nIs each element composed of digits, lowercase, and uppercase letters only?\")\n",
    "print(is_valid_element)"
   ]
  },
  {
   "cell_type": "code",
   "execution_count": null,
   "id": "847cf159",
   "metadata": {},
   "outputs": [],
   "source": [
    "# solution of problem statement 3"
   ]
  },
  {
   "cell_type": "code",
   "execution_count": 4,
   "id": "6724d0cf",
   "metadata": {},
   "outputs": [
    {
     "name": "stdout",
     "output_type": "stream",
     "text": [
      "9 12\n",
      "[0, -3, -6, -9, -12, -15, -18, -21, -24, -27, -30, -33, -36, -39, -42, -45]\n"
     ]
    }
   ],
   "source": [
    "import numpy as np\n",
    "\n",
    "# Step 1: Read input values for X and Y\n",
    "X, Y = map(int, input().split())\n",
    "\n",
    "# Step 2: Create lists lst1 and lst2\n",
    "lst1 = list(range(1, 16 * X + 1, X))\n",
    "lst2 = list(range(1, 16 * Y + 1, Y))\n",
    "\n",
    "# Step 3: Create NumPy arrays np1 and np2\n",
    "np1 = np.array(lst1)\n",
    "np2 = np.array(lst2)\n",
    "\n",
    "# Step 4: Reshape both NumPy arrays to (4, 4)\n",
    "np1 = np1.reshape(4, 4)\n",
    "np2 = np2.reshape(4, 4)\n",
    "\n",
    "# Step 5: Create a new NumPy array np3 by subtracting np2 from np1\n",
    "np3 = np1 - np2\n",
    "\n",
    "# Step 6: Print the elements of np3 in a single dimension list\n",
    "print(np3.flatten().tolist())\n"
   ]
  },
  {
   "cell_type": "code",
   "execution_count": null,
   "id": "01da837f",
   "metadata": {},
   "outputs": [],
   "source": [
    "# solution of problem statement 4"
   ]
  },
  {
   "cell_type": "code",
   "execution_count": 7,
   "id": "3a23b076",
   "metadata": {},
   "outputs": [
    {
     "name": "stdout",
     "output_type": "stream",
     "text": [
      "1 2 3 4 5 6 7 8 9\n",
      "11 22 33 44 55 66 77 88 99\n",
      "[-10 -20 -30]\n",
      "[-40 -50 -60]\n",
      "[-70 -80 -90]\n"
     ]
    }
   ],
   "source": [
    "import numpy as np\n",
    "\n",
    "# Step 1: Read the elements of matrices P and Q from the user\n",
    "elements_P = list(map(int, input().split()))\n",
    "elements_Q = list(map(int, input().split()))\n",
    "\n",
    "# Step 2: Create NumPy arrays P and Q with shape [3, 3]\n",
    "P = np.array(elements_P).reshape(3, 3)\n",
    "Q = np.array(elements_Q).reshape(3, 3)\n",
    "\n",
    "# Step 3: Calculate the element-wise difference (P - Q)\n",
    "result = P - Q\n",
    "\n",
    "# Step 4: Print the result\n",
    "for row in result:\n",
    "    print(row)"
   ]
  },
  {
   "cell_type": "code",
   "execution_count": null,
   "id": "e41f909a",
   "metadata": {},
   "outputs": [],
   "source": []
  }
 ],
 "metadata": {
  "kernelspec": {
   "display_name": "Python 3 (ipykernel)",
   "language": "python",
   "name": "python3"
  },
  "language_info": {
   "codemirror_mode": {
    "name": "ipython",
    "version": 3
   },
   "file_extension": ".py",
   "mimetype": "text/x-python",
   "name": "python",
   "nbconvert_exporter": "python",
   "pygments_lexer": "ipython3",
   "version": "3.10.10"
  }
 },
 "nbformat": 4,
 "nbformat_minor": 5
}
