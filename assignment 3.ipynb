{
 "cells": [
  {
   "cell_type": "markdown",
   "id": "c80ddb23",
   "metadata": {},
   "source": [
    "#  solution for problem statement 1"
   ]
  },
  {
   "cell_type": "code",
   "execution_count": 1,
   "id": "471f4f5a",
   "metadata": {},
   "outputs": [
    {
     "name": "stdout",
     "output_type": "stream",
     "text": [
      "172\n",
      "0.81964 0.90036\n"
     ]
    }
   ],
   "source": [
    "import scipy.stats as stats\n",
    "\n",
    "# Read the number of highly satisfied customers\n",
    "x = int(input())\n",
    "\n",
    "# Total number of customers in the sample\n",
    "n = 200\n",
    "\n",
    "# Calculate the sample proportion\n",
    "p_hat = x / n\n",
    "\n",
    "# Set the confidence level (90% in this case)\n",
    "confidence_level = 0.9\n",
    "\n",
    "# Calculate the critical value using scipy.stats.norm.ppf\n",
    "z_critical = stats.norm.ppf((1 + confidence_level) / 2)\n",
    "\n",
    "# Calculate the standard error of the statistic\n",
    "standard_error = (p_hat * (1 - p_hat) / n) ** 0.5\n",
    "\n",
    "# Calculate the margin of error\n",
    "margin_of_error = z_critical * standard_error\n",
    "\n",
    "# Calculate the confidence interval\n",
    "lower_bound = p_hat - margin_of_error\n",
    "upper_bound = p_hat + margin_of_error\n",
    "\n",
    "# Print the confidence interval values rounded up to five decimal places\n",
    "print(f'{lower_bound:.5f} {upper_bound:.5f}')\n"
   ]
  },
  {
   "cell_type": "markdown",
   "id": "e6f7e827",
   "metadata": {},
   "source": [
    "#  solution for problem statement 2"
   ]
  },
  {
   "cell_type": "code",
   "execution_count": 2,
   "id": "517842a3",
   "metadata": {},
   "outputs": [
    {
     "name": "stdout",
     "output_type": "stream",
     "text": [
      "100\n",
      "0.0478\n"
     ]
    }
   ],
   "source": [
    "import scipy.stats as stats\n",
    "\n",
    "# Read the speed 'X' as input\n",
    "X = float(input())\n",
    "\n",
    "# Define the parameters of the normal distribution\n",
    "mean_speed = 75  # Mean speed of cars\n",
    "std_deviation = 15  # Standard deviation of speeds\n",
    "\n",
    "# Calculate the probability that a car is traveling at more than X km/hr\n",
    "probability = 1 - stats.norm.cdf(X, loc=mean_speed, scale=std_deviation)\n",
    "\n",
    "# Print the probability rounded up to four decimal places\n",
    "print(f'{probability:.4f}')\n"
   ]
  },
  {
   "cell_type": "markdown",
   "id": "9cac08c1",
   "metadata": {},
   "source": [
    "#  solution for problem statement 3"
   ]
  },
  {
   "cell_type": "code",
   "execution_count": 7,
   "id": "194a4240",
   "metadata": {},
   "outputs": [
    {
     "name": "stdout",
     "output_type": "stream",
     "text": [
      "1. DataFrame Info:\n",
      "<class 'pandas.core.frame.DataFrame'>\n",
      "RangeIndex: 118 entries, 0 to 117\n",
      "Data columns (total 16 columns):\n",
      " #   Column            Non-Null Count  Dtype  \n",
      "---  ------            --------------  -----  \n",
      " 0   SUBDIVISION       118 non-null    object \n",
      " 1   YEAR              118 non-null    int64  \n",
      " 2   JAN               118 non-null    float64\n",
      " 3   FEB               118 non-null    float64\n",
      " 4   MAR               118 non-null    float64\n",
      " 5   APR               118 non-null    float64\n",
      " 6   MAY               118 non-null    float64\n",
      " 7   JUN               118 non-null    float64\n",
      " 8   JUL               118 non-null    float64\n",
      " 9   AUG               118 non-null    float64\n",
      " 10  SEP               118 non-null    float64\n",
      " 11  OCT               118 non-null    float64\n",
      " 12  NOV               118 non-null    float64\n",
      " 13  DEC               118 non-null    float64\n",
      " 14   ANNUAL RAINFALL  118 non-null    float64\n",
      " 15  FLOODS            118 non-null    object \n",
      "dtypes: float64(13), int64(1), object(2)\n",
      "memory usage: 14.9+ KB\n",
      "None\n",
      "\n",
      "DataFrame Description:\n",
      "              YEAR         JAN         FEB         MAR         APR  \\\n",
      "count   118.000000  118.000000  118.000000  118.000000  118.000000   \n",
      "mean   1959.500000   12.218644   15.633898   36.670339  110.330508   \n",
      "std      34.207699   15.473766   16.406290   30.063862   44.633452   \n",
      "min    1901.000000    0.000000    0.000000    0.100000   13.100000   \n",
      "25%    1930.250000    2.175000    4.700000   18.100000   74.350000   \n",
      "50%    1959.500000    5.800000    8.350000   28.400000  110.400000   \n",
      "75%    1988.750000   18.175000   21.400000   49.825000  136.450000   \n",
      "max    2018.000000   83.500000   79.000000  217.200000  238.000000   \n",
      "\n",
      "              MAY          JUN          JUL          AUG         SEP  \\\n",
      "count  118.000000   118.000000   118.000000   118.000000  118.000000   \n",
      "mean   228.644915   651.617797   698.220339   430.369492  246.207627   \n",
      "std    147.548778   186.181363   228.988966   181.980463  121.901131   \n",
      "min     53.400000   196.800000   167.500000   178.600000   41.300000   \n",
      "25%    125.050000   535.550000   533.200000   316.725000  155.425000   \n",
      "50%    184.600000   625.600000   691.650000   386.250000  223.550000   \n",
      "75%    264.875000   786.975000   832.425000   500.100000  334.500000   \n",
      "max    738.800000  1098.200000  1526.500000  1398.900000  526.700000   \n",
      "\n",
      "              OCT         NOV         DEC   ANNUAL RAINFALL  \n",
      "count  118.000000  118.000000  118.000000        118.000000  \n",
      "mean   293.207627  162.311017   40.009322       2925.405085  \n",
      "std     93.705253   83.200485   36.676330        452.169407  \n",
      "min     68.500000   31.500000    0.100000       2068.800000  \n",
      "25%    222.125000   93.025000   10.350000       2613.525000  \n",
      "50%    284.300000  152.450000   31.100000       2934.300000  \n",
      "75%    355.150000  218.325000   54.025000       3170.400000  \n",
      "max    567.900000  365.600000  202.300000       4473.000000  \n",
      "\n",
      "3. Probability of flood given it rained more than 500 mm in June: 1.0000\n",
      "4. Probability of rain more than 500 mm in June, given it flooded that year: 0.8087\n",
      "\n",
      "5. Probability of flood given it rained more than 500 mm in July: 1.0000\n",
      "6. Probability of rain more than 500 mm in July, given it flooded that year: 0.8348\n"
     ]
    }
   ],
   "source": [
    "import pandas as pd\n",
    "\n",
    "# Load the data into a DataFrame\n",
    "df = pd.read_csv(\"kerala.csv\")\n",
    "\n",
    "# Task 1: Explore the DataFrame using info() and describe() functions\n",
    "print(\"1. DataFrame Info:\")\n",
    "print(df.info())\n",
    "print(\"\\nDataFrame Description:\")\n",
    "print(df.describe())\n",
    "\n",
    "# Task 2: Create a new DataFrame with flood-related columns\n",
    "df['JUN_GT_500'] = df['JUN'] > 500\n",
    "df['JUL_GT_500'] = df['JUL'] > 500\n",
    "df['FLOODS'] = df.apply(lambda row: row['JUN_GT_500'] or row['JUL_GT_500'], axis=1)\n",
    "flood_df = df[['YEAR', 'JUN_GT_500', 'JUL_GT_500', 'FLOODS']]\n",
    "\n",
    "# Task 3: Calculate the probability of flood given it rained more than 500 mm in June (P(A|B))\n",
    "p_flood_given_june_rain = flood_df[flood_df['JUN_GT_500']]['FLOODS'].mean()\n",
    "print(f\"\\n3. Probability of flood given it rained more than 500 mm in June: {p_flood_given_june_rain:.4f}\")\n",
    "\n",
    "# Task 4: Calculate the probability of rain more than 500 mm in June, given it flooded that year (P(B|A))\n",
    "p_june_rain_given_flood = flood_df[flood_df['FLOODS']]['JUN_GT_500'].mean()\n",
    "print(f\"4. Probability of rain more than 500 mm in June, given it flooded that year: {p_june_rain_given_flood:.4f}\")\n",
    "\n",
    "# Task 5: Probability of flood given it rained more than 500 mm in July\n",
    "p_flood_given_july_rain = flood_df[flood_df['JUL_GT_500']]['FLOODS'].mean()\n",
    "print(f\"\\n5. Probability of flood given it rained more than 500 mm in July: {p_flood_given_july_rain:.4f}\")\n",
    "\n",
    "# Task 6: Probability of rain more than 500 mm in July, given it flooded that year (P(B|A))\n",
    "p_july_rain_given_flood = flood_df[flood_df['FLOODS']]['JUL_GT_500'].mean()\n",
    "print(f\"6. Probability of rain more than 500 mm in July, given it flooded that year: {p_july_rain_given_flood:.4f}\")\n"
   ]
  },
  {
   "cell_type": "markdown",
   "id": "9241c7fe",
   "metadata": {},
   "source": [
    "# solution for problem statement 4"
   ]
  },
  {
   "cell_type": "code",
   "execution_count": 11,
   "id": "9659a0b4",
   "metadata": {},
   "outputs": [
    {
     "name": "stdout",
     "output_type": "stream",
     "text": [
      "Z-Critical Value: 1.9600\n",
      "Margin of Error: 0.2131\n",
      "Confidence Interval for Alcohol: (12.7605, 13.1867)\n"
     ]
    }
   ],
   "source": [
    "import pandas as pd\n",
    "from sklearn.datasets import load_wine\n",
    "from scipy import stats\n",
    "\n",
    "# Load the wine dataset from scikit-learn\n",
    "wine_data = load_wine()\n",
    "\n",
    "# Create a DataFrame from the dataset\n",
    "wine_df = pd.DataFrame(wine_data.data, columns=wine_data.feature_names)\n",
    "\n",
    "# Generate a random sample of size 50 with a random state of 100\n",
    "sample_size = 50\n",
    "random_state = 100\n",
    "sample = wine_df.sample(n=sample_size, random_state=random_state)\n",
    "\n",
    "# Calculate the mean and standard error of the sample\n",
    "sample_mean = sample['alcohol'].mean()\n",
    "sample_std = sample['alcohol'].std()\n",
    "standard_error = sample_std / (sample_size ** 0.5)\n",
    "\n",
    "# Set the confidence level (95% in this case)\n",
    "confidence_level = 0.95\n",
    "\n",
    "# Calculate the Z-critical value\n",
    "z_critical = stats.norm.ppf((1 + confidence_level) / 2)\n",
    "\n",
    "# Calculate the Margin of Error\n",
    "margin_of_error = z_critical * standard_error\n",
    "\n",
    "# Calculate the Confidence Interval for alcohol\n",
    "confidence_interval_lower = sample_mean - margin_of_error\n",
    "confidence_interval_upper = sample_mean + margin_of_error\n",
    "\n",
    "# Print the results\n",
    "print(f\"Z-Critical Value: {z_critical:.4f}\")\n",
    "print(f\"Margin of Error: {margin_of_error:.4f}\")\n",
    "print(f\"Confidence Interval for Alcohol: ({confidence_interval_lower:.4f}, {confidence_interval_upper:.4f})\")\n"
   ]
  }
 ],
 "metadata": {
  "kernelspec": {
   "display_name": "Python 3 (ipykernel)",
   "language": "python",
   "name": "python3"
  },
  "language_info": {
   "codemirror_mode": {
    "name": "ipython",
    "version": 3
   },
   "file_extension": ".py",
   "mimetype": "text/x-python",
   "name": "python",
   "nbconvert_exporter": "python",
   "pygments_lexer": "ipython3",
   "version": "3.10.10"
  }
 },
 "nbformat": 4,
 "nbformat_minor": 5
}
